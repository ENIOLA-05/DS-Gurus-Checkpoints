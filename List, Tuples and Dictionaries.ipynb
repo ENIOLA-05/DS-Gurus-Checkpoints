{
 "cells": [
  {
   "cell_type": "code",
   "execution_count": 7,
   "id": "e75ab5bc-0d42-46bb-9acc-71731dd3d234",
   "metadata": {},
   "outputs": [
    {
     "name": "stdout",
     "output_type": "stream",
     "text": [
      "[1, 3, 4, 5, 35]\n"
     ]
    }
   ],
   "source": [
    "\"\"\"\n",
    "Q1. Write a Python program to:\n",
    "• Create a list of 5 integers.\n",
    "• Add a new element at the end.\n",
    "• Remove the second element.\n",
    "• Print the final list.\n",
    "\"\"\"\n",
    "\n",
    "my_list = [1, 2, 3, 4, 5]\n",
    "my_list.append(35)\n",
    "del my_list[1]\n",
    "print(my_list)"
   ]
  },
  {
   "cell_type": "code",
   "execution_count": 11,
   "id": "9fd5bbab-ccdc-45eb-8f19-cdf8cd70cf75",
   "metadata": {},
   "outputs": [
    {
     "name": "stdout",
     "output_type": "stream",
     "text": [
      "[1, 2, 5, 8, 9]\n"
     ]
    }
   ],
   "source": [
    "\"\"\"\n",
    "Q2. Given a list, numbers = [5, 2, 8, 1, 9], write a program to:\n",
    "• Sort the list in ascending order.\n",
    "• Find the sum of all elements.\n",
    "• Reverse the sorted list.\n",
    "\"\"\"\n",
    "\n",
    "numbers = [5, 2, 8, 1, 9]\n",
    "numbers.sort()\n",
    "print(numbers)"
   ]
  },
  {
   "cell_type": "code",
   "execution_count": 13,
   "id": "44ae5d64-538c-4296-a834-4f533e9a885a",
   "metadata": {},
   "outputs": [
    {
     "name": "stdout",
     "output_type": "stream",
     "text": [
      "25\n"
     ]
    }
   ],
   "source": [
    "summation = sum(numbers)\n",
    "print(summation)"
   ]
  },
  {
   "cell_type": "code",
   "execution_count": 15,
   "id": "f1f63433-37c2-4ac4-8f21-67d5631e92ab",
   "metadata": {},
   "outputs": [
    {
     "name": "stdout",
     "output_type": "stream",
     "text": [
      "[9, 8, 5, 2, 1]\n"
     ]
    }
   ],
   "source": [
    "numbers.sort(reverse = True)\n",
    "print(numbers)"
   ]
  },
  {
   "cell_type": "code",
   "execution_count": 22,
   "id": "73da895c-ff1f-44dd-b116-cf88183c7e09",
   "metadata": {},
   "outputs": [
    {
     "name": "stdout",
     "output_type": "stream",
     "text": [
      "['red', 'green', 'blue', 'yellow']\n"
     ]
    }
   ],
   "source": [
    "\"\"\"\n",
    "Q3. Given a tuple, colors = (\"red\", \"green\", \"blue\"), write a program to:\n",
    "• Convert the tuple into a list, add \"yellow\", then convert it back to a tuple.\n",
    "\"\"\"\n",
    "colors = (\"red\", \"green\", \"blue\")\n",
    "listcolours = list(colors)\n",
    "listcolours.append('yellow')\n",
    "print(listcolours)"
   ]
  },
  {
   "cell_type": "code",
   "execution_count": 24,
   "id": "f8c5b0ee-4b8b-48ed-b3eb-e698246c4d5b",
   "metadata": {},
   "outputs": [
    {
     "name": "stdout",
     "output_type": "stream",
     "text": [
      "('red', 'green', 'blue', 'yellow')\n"
     ]
    }
   ],
   "source": [
    "tuplecolours = tuple(listcolours)\n",
    "print(tuplecolours)"
   ]
  },
  {
   "cell_type": "code",
   "execution_count": 33,
   "id": "7310774b-66a6-4abd-927f-dd97d520133a",
   "metadata": {},
   "outputs": [
    {
     "name": "stdout",
     "output_type": "stream",
     "text": [
      "(1, 2, 3, 4, 5, 6)\n",
      "(1, 2, 3, 1, 2, 3, 1, 2, 3)\n"
     ]
    }
   ],
   "source": [
    "\"\"\"\n",
    "Q4. Given two tuples tuple1 = (1, 2, 3) and tuple2 = (4, 5, 6), write a program to:\n",
    "• Concatenate them.\n",
    "• Repeat the first tuple 3 time\n",
    "\"\"\"\n",
    "tuple1 = (1, 2, 3)\n",
    "tuple2 = (4, 5, 6)\n",
    "result = tuple1 + tuple2\n",
    "print(result)\n",
    "\n",
    "repetation = tuple1*3\n",
    "print(repetation)"
   ]
  },
  {
   "cell_type": "code",
   "execution_count": 39,
   "id": "e7a493a3-ae9b-4183-9565-f79be889b40a",
   "metadata": {},
   "outputs": [
    {
     "name": "stdout",
     "output_type": "stream",
     "text": [
      "{'name': 'Alice', 'age': 22, 'course': 'Computer Science'}\n"
     ]
    }
   ],
   "source": [
    "\"\"\"\n",
    "Q5. Given a dictionary student = {\"name\": \"Alice\", \"age\": 21, \"grade\": \"A\"}, write a program to:\n",
    "• Update the age to 22.\n",
    "• Add a new key-value pair \"course\": \"Computer Science\".\n",
    "• Remove the \"grade\" key\n",
    "\"\"\"\n",
    "student = {\"name\": \"Alice\", \"age\": 21, \"grade\": \"A\"}\n",
    "student['age'] = 22\n",
    "student['course']= 'Computer Science'\n",
    "del student['grade']\n",
    "print(student)\n"
   ]
  },
  {
   "cell_type": "code",
   "execution_count": 43,
   "id": "f3f6669a-c723-41a2-8a6e-6eb8252d40b8",
   "metadata": {},
   "outputs": [
    {
     "name": "stdout",
     "output_type": "stream",
     "text": [
      "{'a': 1, 'b': 2, 'c': 3, 'd': 4}\n"
     ]
    }
   ],
   "source": [
    "\"\"\"\n",
    "Q6. Write a program to merge two dictionaries:\n",
    "dict1 = {\"a\": 1, \"b\": 2} \n",
    "dict2 = {\"c\": 3, \"d\": 4}\n",
    "\"\"\"\n",
    "dict1 = {\"a\": 1, \"b\": 2} \n",
    "dict2 = {\"c\": 3, \"d\": 4}\n",
    "\n",
    "dict1.update(dict2)\n",
    "print(dict1)"
   ]
  },
  {
   "cell_type": "code",
   "execution_count": 47,
   "id": "4cfee512-4043-4b7d-9e6d-a5532a64abf8",
   "metadata": {},
   "outputs": [
    {
     "name": "stdout",
     "output_type": "stream",
     "text": [
      "{1, 2, 3, 4}\n",
      "{3, 4, 5, 6}\n"
     ]
    }
   ],
   "source": [
    "\"\"\"\n",
    "Q7. Given two sets:\n",
    "python\n",
    "set1 = {1, 2, 3, 4} \n",
    "set2 = {3, 4, 5, 6} \n",
    "Write a program to find:\n",
    "• The union of both sets.\n",
    "• The intersection of both sets.\n",
    "• The difference between set1 and set2.\n",
    "\"\"\"\n",
    "set1 = {1, 2, 3, 4} \n",
    "set2 = {3, 4, 5, 6} \n",
    "print(set1)\n",
    "print(set2)"
   ]
  },
  {
   "cell_type": "code",
   "execution_count": 49,
   "id": "e3724052-740c-40ce-8c3e-0b7fb4832bd1",
   "metadata": {},
   "outputs": [
    {
     "name": "stdout",
     "output_type": "stream",
     "text": [
      "{1, 2, 3, 4, 5, 6}\n"
     ]
    }
   ],
   "source": [
    "union = set1.union(set2)\n",
    "print(union)"
   ]
  },
  {
   "cell_type": "code",
   "execution_count": 51,
   "id": "c63e6e7b-602c-44d1-a460-34bcc748647c",
   "metadata": {},
   "outputs": [
    {
     "name": "stdout",
     "output_type": "stream",
     "text": [
      "{3, 4}\n"
     ]
    }
   ],
   "source": [
    "intersection = set1.intersection(set2)\n",
    "print(intersection)"
   ]
  },
  {
   "cell_type": "code",
   "execution_count": 53,
   "id": "8e589bba-1869-4887-9764-c1d0c4390732",
   "metadata": {},
   "outputs": [
    {
     "name": "stdout",
     "output_type": "stream",
     "text": [
      "{1, 2}\n"
     ]
    }
   ],
   "source": [
    "difference = set1.difference(set2)\n",
    "print(difference)"
   ]
  },
  {
   "cell_type": "code",
   "execution_count": 57,
   "id": "736f10d5-2cc9-42b7-ba94-808fe88287e6",
   "metadata": {},
   "outputs": [
    {
     "name": "stdout",
     "output_type": "stream",
     "text": [
      "{1, 2, 3, 4, 5}\n"
     ]
    }
   ],
   "source": [
    "\"\"\"\n",
    "Q8. Write a program to remove duplicates from a list using a set.\n",
    "numbers = [1, 2, 2, 3, 4, 4, 5]\n",
    "\"\"\"\n",
    "numbers2 = [1, 2, 2, 3, 4, 4, 5]\n",
    "set2 = set(numbers2)\n",
    "print(set2)\n"
   ]
  },
  {
   "cell_type": "code",
   "execution_count": null,
   "id": "0382cbb9-7b5a-487d-9cc2-7201f40131de",
   "metadata": {},
   "outputs": [],
   "source": [
    "\"\"\"\n",
    "Q9. Given a list of dictionaries:\n",
    "students = [{\"name\": \"Alice\", \"age\": 21}, {\"name\": \"Bob\", \"age\": 20}, {\"name\": \"Charlie\", \"age\": 22}] \n",
    "Write a program to:\n",
    "• Sort the list by age in ascending order.\n",
    "• Extract all names into a separate list.\n",
    "\"\"\""
   ]
  },
  {
   "cell_type": "code",
   "execution_count": 61,
   "id": "16a61b8c-917a-46e1-9b69-88e6c65ae370",
   "metadata": {},
   "outputs": [
    {
     "name": "stdout",
     "output_type": "stream",
     "text": [
      "[{'name': 'Bob', 'age': 20}, {'name': 'Alice', 'age': 21}, {'name': 'Charlie', 'age': 22}]\n"
     ]
    }
   ],
   "source": [
    "students2 = [{\"name\": \"Alice\", \"age\": 21}, {\"name\": \"Bob\", \"age\": 20}, {\"name\": \"Charlie\", \"age\": 22}]\n",
    "sortedage = sorted(students2, key=lambda x: x[\"age\"])\n",
    "print(sortedage)"
   ]
  },
  {
   "cell_type": "code",
   "execution_count": 81,
   "id": "c8fb2ba4-d9bb-48e7-9dc9-32e3a396ba82",
   "metadata": {},
   "outputs": [
    {
     "name": "stdout",
     "output_type": "stream",
     "text": [
      "['Alice', 'Bob', 'Charlie']\n"
     ]
    }
   ],
   "source": [
    "sortednames = [students2[\"name\"] for students2 in students2]\n",
    "print(sortednames)"
   ]
  },
  {
   "cell_type": "code",
   "execution_count": null,
   "id": "105608c5-2963-46fd-b699-ef2d09656a4a",
   "metadata": {},
   "outputs": [],
   "source": []
  },
  {
   "cell_type": "code",
   "execution_count": null,
   "id": "46debbbf-172b-4eaa-97e9-098bad5a6348",
   "metadata": {},
   "outputs": [],
   "source": []
  },
  {
   "cell_type": "code",
   "execution_count": null,
   "id": "6b273f67-65e5-4ac2-ad99-2bf282cbf76a",
   "metadata": {},
   "outputs": [],
   "source": []
  }
 ],
 "metadata": {
  "kernelspec": {
   "display_name": "Python [conda env:base] *",
   "language": "python",
   "name": "conda-base-py"
  },
  "language_info": {
   "codemirror_mode": {
    "name": "ipython",
    "version": 3
   },
   "file_extension": ".py",
   "mimetype": "text/x-python",
   "name": "python",
   "nbconvert_exporter": "python",
   "pygments_lexer": "ipython3",
   "version": "3.12.7"
  }
 },
 "nbformat": 4,
 "nbformat_minor": 5
}
