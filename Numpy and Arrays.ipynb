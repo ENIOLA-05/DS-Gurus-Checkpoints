{
 "cells": [
  {
   "cell_type": "code",
   "execution_count": 5,
   "id": "fcf6de07-f78c-4dc0-819a-5f08327b9020",
   "metadata": {},
   "outputs": [
    {
     "name": "stdout",
     "output_type": "stream",
     "text": [
      "[0 0 0 0 0 0 0] [5 5 5 5 5 5 5 5 5] [ 2  4  6  8 10]\n"
     ]
    }
   ],
   "source": [
    "\"\"\"\n",
    "Q1. Create the following arrays using NumPy:\n",
    "• An array of 7 zeros.\n",
    "• An array of 9 fives.\n",
    "• An array from the list [2, 4, 6, 8, 10].\n",
    "\"\"\"\n",
    "import numpy as np\n",
    "\n",
    "zeroarry = np.full(7, 0)\n",
    "fullarry = np.full(9, 5)\n",
    "listtoarry = np.array([2, 4, 6, 8, 10])\n",
    "print(zeroarry, fullarry, listtoarry)"
   ]
  },
  {
   "cell_type": "code",
   "execution_count": 7,
   "id": "a3931353-8970-496d-b169-85d2eb120cb5",
   "metadata": {},
   "outputs": [
    {
     "name": "stdout",
     "output_type": "stream",
     "text": [
      "6\n",
      "(2, 3)\n",
      "2\n"
     ]
    }
   ],
   "source": [
    "\"\"\"\n",
    "Q2. Given the array arr = np.array([[1, 2, 3], [4, 5, 6]]), print:\n",
    "• Its shape.\n",
    "• Total number of elements (size).\n",
    "• Number of dimensions (ndim).\n",
    "• Extract all even numbers from the array.\n",
    "\"\"\"\n",
    "arr = np.array([[1, 2, 3], [4, 5, 6]])\n",
    "print(arr.size)\n",
    "print(arr.shape)\n",
    "print(arr.ndim)"
   ]
  },
  {
   "cell_type": "code",
   "execution_count": 13,
   "id": "37da390a-d624-4edb-9cc3-cc97d25f44cc",
   "metadata": {},
   "outputs": [
    {
     "name": "stdout",
     "output_type": "stream",
     "text": [
      "80\n",
      "[[40 50 60]\n",
      " [70 80 90]]\n"
     ]
    }
   ],
   "source": [
    "\"\"\"\n",
    "Q3. Given the array:\n",
    "arr = np.array([[10, 20, 30], [40, 50, 60], [70, 80, 90]]) \n",
    "• Print the element at the 3rd row, 2nd column.\n",
    "• Slice the array to get the first and last rows.\n",
    "\"\"\"\n",
    "arr = np.array([[10, 20, 30], [40, 50, 60], [70, 80, 90]])\n",
    "print(arr[2, 1])\n",
    "print(arr[[1, 2], :])"
   ]
  },
  {
   "cell_type": "code",
   "execution_count": 15,
   "id": "7b5d96c0-ae24-478c-a84f-70ff947a7f14",
   "metadata": {},
   "outputs": [
    {
     "name": "stdout",
     "output_type": "stream",
     "text": [
      "[ 3  7 11]\n",
      "[ 2 12 30]\n"
     ]
    }
   ],
   "source": [
    "\"\"\"\n",
    "Q4. Given two arrays:\n",
    "a = np.array([1, 3, 5]) \n",
    "b = np.array([2, 4, 6]) \n",
    "Compute:\n",
    "• Element-wise addition (a + b).\n",
    "• Element-wise multiplication (a * b).\n",
    "\"\"\"\n",
    "a = np.array([1, 3, 5]) \n",
    "b = np.array([2, 4, 6]) \n",
    "print(a+b)\n",
    "print(a*b)\n"
   ]
  },
  {
   "cell_type": "code",
   "execution_count": 19,
   "id": "0c7dfa22-4a69-428a-b8af-9ec910f43ae2",
   "metadata": {},
   "outputs": [
    {
     "name": "stdout",
     "output_type": "stream",
     "text": [
      "[1. 2. 3.]\n",
      "[0.         1.38629436 2.19722458]\n"
     ]
    }
   ],
   "source": [
    "\"\"\"\n",
    "Q5. For the array arr = np.array([1, 4, 9]), compute:\n",
    "• Square root of each element.\n",
    "• Natural logarithm of each element.\n",
    "\"\"\"\n",
    "arr = np.array([1, 4, 9])\n",
    "print(np.sqrt(arr))\n",
    "print(np.log(arr))"
   ]
  },
  {
   "cell_type": "code",
   "execution_count": 25,
   "id": "8bd8cfd2-65b5-4d04-a059-0d4b9076985b",
   "metadata": {},
   "outputs": [
    {
     "name": "stdout",
     "output_type": "stream",
     "text": [
      "[ 5 10 15 20 25 30 35 40 45 50]\n",
      "[0.  0.2 0.4 0.6 0.8 1. ]\n"
     ]
    }
   ],
   "source": [
    "\"\"\"\n",
    "Q6. Use NumPy to:\n",
    "• Create an array of numbers from 5 to 50 with a step of 5.\n",
    "• Create an array of 6 evenly spaced numbers between 0 and 1.\n",
    "\"\"\"\n",
    "range_arr = np.arange(5, 55, 5)\n",
    "print(range_arr)\n",
    "linarr = np.linspace(0, 1, 6)\n",
    "print(linarr)"
   ]
  },
  {
   "cell_type": "code",
   "execution_count": 27,
   "id": "8fb7d500-df60-41e6-96e6-62cfebf43ca6",
   "metadata": {},
   "outputs": [
    {
     "name": "stdout",
     "output_type": "stream",
     "text": [
      "18.0\n",
      "18.0\n",
      "90\n",
      "[12 27 45 66 90]\n"
     ]
    }
   ],
   "source": [
    "\"\"\"\n",
    "Q7. For the array data = np.array([12, 15, 18, 21, 24]), compute:\n",
    "• Mean and median.\n",
    "• Sum and cumulative sum.\n",
    "\"\"\"\n",
    "data = np.array([12, 15, 18, 21, 24])\n",
    "print(np.mean(data))\n",
    "print(np.median(data))\n",
    "print(np.sum(data))\n",
    "print(np.cumsum(data))"
   ]
  },
  {
   "cell_type": "code",
   "execution_count": 31,
   "id": "df1239fd-b774-4d1b-91bc-6dcf8f492f04",
   "metadata": {},
   "outputs": [
    {
     "name": "stdout",
     "output_type": "stream",
     "text": [
      "[[-1  0]\n",
      " [ 1  2]\n",
      " [ 3  4]]\n",
      "[[0.5 3. ]\n",
      " [1.5 6. ]\n",
      " [2.5 9. ]]\n"
     ]
    }
   ],
   "source": [
    "\"\"\"\n",
    "Q8. Given a 2D array:\n",
    "matrix = np.array([[1, 2], [3, 4], [5, 6]]) \n",
    "Write a program to:\n",
    "• Subtract 2 from every element.\n",
    "• Multiply each row by [0.5, 1.5]\n",
    "\"\"\"\n",
    "matrix = np.array([[1, 2], [3, 4], [5, 6]]) \n",
    "\n",
    "matrix_minus = matrix - 2\n",
    "print(matrix_minus)\n",
    "\n",
    "result = matrix* [0.5, 1.5]\n",
    "print(result)\n"
   ]
  },
  {
   "cell_type": "code",
   "execution_count": null,
   "id": "7a3ad491-173a-47f6-b141-b1f5b080f7b9",
   "metadata": {},
   "outputs": [],
   "source": [
    "\"\"\"\n",
    "\n",
    "\"\"\""
   ]
  },
  {
   "cell_type": "code",
   "execution_count": null,
   "id": "f1a33e33-6250-4730-8544-6145b0171d89",
   "metadata": {},
   "outputs": [],
   "source": [
    "\"\"\"\n",
    "\n",
    "\"\"\""
   ]
  },
  {
   "cell_type": "code",
   "execution_count": null,
   "id": "91feb1df-94a2-495e-8cf3-88589d557f21",
   "metadata": {},
   "outputs": [],
   "source": []
  },
  {
   "cell_type": "code",
   "execution_count": null,
   "id": "0aa8f9c8-68ba-4bd4-be06-c05ce28d12bd",
   "metadata": {},
   "outputs": [],
   "source": []
  }
 ],
 "metadata": {
  "kernelspec": {
   "display_name": "Python [conda env:base] *",
   "language": "python",
   "name": "conda-base-py"
  },
  "language_info": {
   "codemirror_mode": {
    "name": "ipython",
    "version": 3
   },
   "file_extension": ".py",
   "mimetype": "text/x-python",
   "name": "python",
   "nbconvert_exporter": "python",
   "pygments_lexer": "ipython3",
   "version": "3.12.7"
  }
 },
 "nbformat": 4,
 "nbformat_minor": 5
}
